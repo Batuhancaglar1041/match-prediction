{
 "cells": [
  {
   "cell_type": "code",
   "execution_count": 10,
   "id": "06dfbebd-1e87-45fc-9d5d-5a49dab847b5",
   "metadata": {},
   "outputs": [],
   "source": [
    "import sqlite3\n",
    "import pandas as pd\n",
    "import numpy as np\n",
    "\n",
    "data_path = r\"C:\\Users\\BatuhanÇağlar\\Desktop\\470\\proje\\data\\basketball\\nba.sqlite\"\n",
    "conn = sqlite3.connect(data_path)\n",
    "\n",
    "table_names = [\n",
    "    \"game\", \"line_score\", \"other_stats\"\n",
    "]\n",
    "dfs = {}\n",
    "for tname in table_names:\n",
    "    dfs[tname] = pd.read_sql(f\"SELECT * FROM {tname}\", conn)\n",
    "\n",
    "# Ana merge (gereksiz suffix sorunu istemiyorsan sadece ana stat tabloları!)\n",
    "df = dfs['game'].merge(dfs['line_score'], on='game_id', how='left')\n",
    "df = df.merge(dfs['other_stats'], on='game_id', how='left')\n",
    "\n",
    "df[\"game_date\"] = pd.to_datetime(df[\"game_date\"])\n"
   ]
  },
  {
   "cell_type": "code",
   "execution_count": 11,
   "id": "99fa2b58",
   "metadata": {},
   "outputs": [],
   "source": [
    "# %70'ten fazla eksik olan kolonları at, kalan eksikleri doldur\n",
    "missing_ratio = df.isnull().mean()\n",
    "drop_cols = missing_ratio[missing_ratio > 0.7].index.tolist()\n",
    "for col in df.columns:\n",
    "    if col in drop_cols:\n",
    "        continue\n",
    "    if df[col].isnull().any():\n",
    "        if pd.api.types.is_numeric_dtype(df[col]):\n",
    "            df[col] = df[col].fillna(df[col].mean())\n",
    "        else:\n",
    "            df[col] = df[col].fillna(df[col].mode()[0])\n",
    "df = df.drop(columns=drop_cols)\n"
   ]
  },
  {
   "cell_type": "code",
   "execution_count": 12,
   "id": "465ebf72",
   "metadata": {},
   "outputs": [],
   "source": [
    "df['home_win'] = (df['wl_home'] == 'W').astype(int)\n"
   ]
  },
  {
   "cell_type": "code",
   "execution_count": 13,
   "id": "82931fc6",
   "metadata": {},
   "outputs": [],
   "source": [
    "N = 5  # Son N maç için\n",
    "\n",
    "# Kullanacağın ana kolon adlarını DataFrame'inden aynen yaz!\n",
    "stat_cols = [\n",
    "    \"fgm_home\", \"fga_home\", \"fg_pct_home\", \"fg3m_home\", \"fg3a_home\", \"fg3_pct_home\",\n",
    "    \"ftm_home\", \"fta_home\", \"ft_pct_home\", \"oreb_home\", \"dreb_home\", \"reb_home\", \"ast_home\",\n",
    "    \"stl_home\", \"blk_home\", \"tov_home\", \"pf_home\", \"pts_home\", \"plus_minus_home\"\n",
    "]\n",
    "stat_cols_away = [c.replace(\"_home\", \"_away\") for c in stat_cols]\n",
    "\n",
    "def add_rolling_feats(df, stat_cols, team_col, prefix, wl_col):\n",
    "    df = df.sort_values([\"game_date\"])\n",
    "    for stat in stat_cols:\n",
    "        if stat not in df.columns:\n",
    "            continue\n",
    "        df[f\"{prefix}_last{N}_{stat}_mean\"] = (\n",
    "            df.groupby(team_col)[stat]\n",
    "            .transform(lambda x: x.rolling(N, min_periods=1).mean())\n",
    "        )\n",
    "    if wl_col in df.columns:\n",
    "        df[f\"{prefix}_last{N}_win_rate\"] = (\n",
    "            df.groupby(team_col)[wl_col].transform(lambda x: x.rolling(N, min_periods=1).mean())\n",
    "        )\n",
    "    return df\n",
    "\n",
    "# Rolling statlar\n",
    "df[\"home_win_raw\"] = (df[\"wl_home\"] == \"W\").astype(int)\n",
    "df[\"away_win_raw\"] = (df[\"wl_away\"] == \"W\").astype(int)\n",
    "df = add_rolling_feats(df, stat_cols, \"team_id_home\", \"home\", \"home_win_raw\")\n",
    "df = add_rolling_feats(df, stat_cols_away, \"team_id_away\", \"away\", \"away_win_raw\")\n"
   ]
  },
  {
   "cell_type": "code",
   "execution_count": 14,
   "id": "59d1fa43",
   "metadata": {},
   "outputs": [],
   "source": [
    "# Fark feature'ları (home-away rolling ortalama farkları)\n",
    "for stat in stat_cols:\n",
    "    away_stat = stat.replace(\"_home\", \"_away\")\n",
    "    home_col = f\"home_last{N}_{stat}_mean\"\n",
    "    away_col = f\"away_last{N}_{away_stat}_mean\"\n",
    "    if home_col in df.columns and away_col in df.columns:\n",
    "        df[f\"last{N}_{stat.replace('_home','')}_diff\"] = df[home_col] - df[away_col]\n",
    "\n",
    "if \"home_last5_win_rate\" in df.columns and \"away_last5_win_rate\" in df.columns:\n",
    "    df[\"last5_win_rate_diff\"] = df[\"home_last5_win_rate\"] - df[\"away_last5_win_rate\"]\n",
    "\n"
   ]
  },
  {
   "cell_type": "code",
   "execution_count": 15,
   "id": "d7778b82",
   "metadata": {},
   "outputs": [],
   "source": [
    "for col in df.columns:\n",
    "    if (\"qtr\" in col or \"pts\" in col or \"mean\" in col or \"diff\" in col or \"momentum\" in col) and (df[col].dtype == \"O\"):\n",
    "        df[col] = pd.to_numeric(df[col], errors=\"coerce\")\n"
   ]
  },
  {
   "cell_type": "code",
   "execution_count": 16,
   "id": "031e9bcf",
   "metadata": {},
   "outputs": [],
   "source": [
    "# Gelişmiş maç içi dinamikler (çeyrek farkları, momentum, uzatma)\n",
    "if (\"pts_qtr1_home\" in df.columns) and (\"pts_qtr1_away\" in df.columns):\n",
    "    df[\"qtr1_diff\"] = df[\"pts_qtr1_home\"] - df[\"pts_qtr1_away\"]\n",
    "if (\"pts_qtr4_home\" in df.columns) and (\"pts_qtr4_away\" in df.columns):\n",
    "    df[\"qtr4_diff\"] = df[\"pts_qtr4_home\"] - df[\"pts_qtr4_away\"]\n",
    "if (\"qtr1_diff\" in df.columns) and (\"qtr4_diff\" in df.columns):\n",
    "    df[\"qtr4_momentum\"] = df[\"qtr4_diff\"] - df[\"qtr1_diff\"]\n",
    "ot_cols = [f\"pts_ot{i}_home\" for i in range(1, 11) if f\"pts_ot{i}_home\" in df.columns]\n",
    "df[\"is_overtime\"] = df[ot_cols].notnull().any(axis=1).astype(int) if ot_cols else 0\n",
    "\n",
    "\n"
   ]
  },
  {
   "cell_type": "code",
   "execution_count": 17,
   "id": "f8c8b906",
   "metadata": {},
   "outputs": [],
   "source": [
    "# Ortalama atılan/yenen sayı rolling\n",
    "if \"pts_home\" in df.columns and \"pts_away\" in df.columns:\n",
    "    df[\"home_last5_pts_scored\"] = df.groupby(\"team_id_home\")[\"pts_home\"].transform(lambda x: x.rolling(N, min_periods=1).mean())\n",
    "    df[\"home_last5_pts_allowed\"] = df.groupby(\"team_id_home\")[\"pts_away\"].transform(lambda x: x.rolling(N, min_periods=1).mean())\n",
    "    df[\"away_last5_pts_scored\"] = df.groupby(\"team_id_away\")[\"pts_away\"].transform(lambda x: x.rolling(N, min_periods=1).mean())\n",
    "    df[\"away_last5_pts_allowed\"] = df.groupby(\"team_id_away\")[\"pts_home\"].transform(lambda x: x.rolling(N, min_periods=1).mean())\n",
    "    df[\"last5_pts_scored_diff\"] = df[\"home_last5_pts_scored\"] - df[\"away_last5_pts_scored\"]"
   ]
  },
  {
   "cell_type": "code",
   "execution_count": 18,
   "id": "ca37a634",
   "metadata": {},
   "outputs": [],
   "source": [
    "\n",
    "from sklearn.model_selection import train_test_split, GridSearchCV, cross_val_score, StratifiedKFold\n",
    "from sklearn.preprocessing import StandardScaler\n",
    "from sklearn.ensemble import RandomForestClassifier\n",
    "from sklearn.neural_network import MLPClassifier\n",
    "from sklearn.metrics import accuracy_score, f1_score, confusion_matrix, classification_report\n",
    "import xgboost as xgb\n",
    "import warnings\n",
    "warnings.filterwarnings(\"ignore\")\n"
   ]
  },
  {
   "cell_type": "code",
   "execution_count": 19,
   "id": "1095cc7e",
   "metadata": {},
   "outputs": [
    {
     "name": "stdout",
     "output_type": "stream",
     "text": [
      "Özellik sayısı: 60\n"
     ]
    }
   ],
   "source": [
    "# Tüm \"last\", \"diff\", \"mean\", \"momentum\" içeren kolonlar modelde kullanılacak (veya istediğin kolonları ekle)\n",
    "feature_cols = [c for c in df.columns if (\"last\" in c or \"diff\" in c or \"mean\" in c or \"momentum\" in c)]\n",
    "X = df[feature_cols]\n",
    "y = df['home_win']\n",
    "print(\"Özellik sayısı:\", X.shape[1])\n"
   ]
  },
  {
   "cell_type": "code",
   "execution_count": 20,
   "id": "5f2dcd8c",
   "metadata": {},
   "outputs": [],
   "source": [
    "# %80 train, %20 test\n",
    "X_train, X_test, y_train, y_test = train_test_split(X, y, test_size=0.2, stratify=y, random_state=42)\n",
    "\n",
    "# Standardizasyon (özellikle MLP, XGBoost için önerilir)\n",
    "scaler = StandardScaler()\n",
    "X_train_scaled = scaler.fit_transform(X_train)\n",
    "X_test_scaled = scaler.transform(X_test)\n"
   ]
  },
  {
   "cell_type": "code",
   "execution_count": 21,
   "id": "ac2be248",
   "metadata": {},
   "outputs": [
    {
     "name": "stdout",
     "output_type": "stream",
     "text": [
      "Random Forest En İyi Parametreler: {'max_depth': 10, 'min_samples_split': 2, 'n_estimators': 100}\n"
     ]
    }
   ],
   "source": [
    "rf_param_grid = {\n",
    "    \"n_estimators\": [100, 200],\n",
    "    \"max_depth\": [5, 10, None],\n",
    "    \"min_samples_split\": [2, 5]\n",
    "}\n",
    "rf = RandomForestClassifier(random_state=42)\n",
    "rf_grid = GridSearchCV(rf, rf_param_grid, cv=5, scoring=\"accuracy\", n_jobs=-1)\n",
    "rf_grid.fit(X_train_scaled, y_train)\n",
    "print(\"Random Forest En İyi Parametreler:\", rf_grid.best_params_)\n"
   ]
  },
  {
   "cell_type": "code",
   "execution_count": 22,
   "id": "c8272aa4",
   "metadata": {},
   "outputs": [
    {
     "name": "stdout",
     "output_type": "stream",
     "text": [
      "MLP En İyi Parametreler: {'alpha': 0.001, 'hidden_layer_sizes': (32,), 'max_iter': 200, 'solver': 'adam'}\n"
     ]
    }
   ],
   "source": [
    "mlp_param_grid = {\n",
    "    \"hidden_layer_sizes\": [(32,), (64,), (32,32)],\n",
    "    \"alpha\": [0.0001, 0.001],\n",
    "    \"max_iter\": [200],\n",
    "    \"solver\": [\"adam\"]\n",
    "}\n",
    "mlp = MLPClassifier(random_state=42)\n",
    "mlp_grid = GridSearchCV(mlp, mlp_param_grid, cv=5, scoring=\"accuracy\", n_jobs=-1)\n",
    "mlp_grid.fit(X_train_scaled, y_train)\n",
    "print(\"MLP En İyi Parametreler:\", mlp_grid.best_params_)\n"
   ]
  },
  {
   "cell_type": "code",
   "execution_count": 23,
   "id": "344c21be",
   "metadata": {},
   "outputs": [
    {
     "name": "stdout",
     "output_type": "stream",
     "text": [
      "XGBoost En İyi Parametreler: {'learning_rate': 0.05, 'max_depth': 5, 'n_estimators': 200}\n"
     ]
    }
   ],
   "source": [
    "xgb_param_grid = {\n",
    "    \"n_estimators\": [100, 200],\n",
    "    \"max_depth\": [5, 10],\n",
    "    \"learning_rate\": [0.05, 0.1]\n",
    "}\n",
    "xgb_clf = xgb.XGBClassifier(random_state=42, use_label_encoder=False, eval_metric='logloss')\n",
    "xgb_grid = GridSearchCV(xgb_clf, xgb_param_grid, cv=5, scoring=\"accuracy\", n_jobs=-1)\n",
    "xgb_grid.fit(X_train_scaled, y_train)\n",
    "print(\"XGBoost En İyi Parametreler:\", xgb_grid.best_params_)\n"
   ]
  },
  {
   "cell_type": "code",
   "execution_count": 24,
   "id": "f51bca70",
   "metadata": {},
   "outputs": [
    {
     "name": "stdout",
     "output_type": "stream",
     "text": [
      "\n",
      "Random Forest Test Sonuçları:\n",
      "Accuracy: 0.7534943786083257\n",
      "F1-score: 0.8099115458965498\n",
      "Confusion matrix:\n",
      " [[3006 2016]\n",
      " [1229 6913]]\n",
      "              precision    recall  f1-score   support\n",
      "\n",
      "           0       0.71      0.60      0.65      5022\n",
      "           1       0.77      0.85      0.81      8142\n",
      "\n",
      "    accuracy                           0.75     13164\n",
      "   macro avg       0.74      0.72      0.73     13164\n",
      "weighted avg       0.75      0.75      0.75     13164\n",
      "\n"
     ]
    },
    {
     "data": {
      "image/png": "[encoded data removed]",
      "text/plain": [
       "<Figure size 640x480 with 2 Axes>"
      ]
     },
     "metadata": {},
     "output_type": "display_data"
    },
    {
     "name": "stdout",
     "output_type": "stream",
     "text": [
      "Random Forest 5-fold CV Accuracy: 0.750 (+/- 0.003)\n",
      "\n",
      "MLP Test Sonuçları:\n",
      "Accuracy: 0.7449863263445761\n",
      "F1-score: 0.8038104143533401\n",
      "Confusion matrix:\n",
      " [[2930 2092]\n",
      " [1265 6877]]\n",
      "              precision    recall  f1-score   support\n",
      "\n",
      "           0       0.70      0.58      0.64      5022\n",
      "           1       0.77      0.84      0.80      8142\n",
      "\n",
      "    accuracy                           0.74     13164\n",
      "   macro avg       0.73      0.71      0.72     13164\n",
      "weighted avg       0.74      0.74      0.74     13164\n",
      "\n"
     ]
    },
    {
     "data": {
      "image/png": "[encoded data removed]",
      "text/plain": [
       "<Figure size 640x480 with 2 Axes>"
      ]
     },
     "metadata": {},
     "output_type": "display_data"
    },
    {
     "name": "stdout",
     "output_type": "stream",
     "text": [
      "MLP 5-fold CV Accuracy: 0.738 (+/- 0.004)\n",
      "\n",
      "XGBoost Test Sonuçları:\n",
      "Accuracy: 0.7556213916742631\n",
      "F1-score: 0.8109315310020571\n",
      "Confusion matrix:\n",
      " [[3048 1974]\n",
      " [1243 6899]]\n",
      "              precision    recall  f1-score   support\n",
      "\n",
      "           0       0.71      0.61      0.65      5022\n",
      "           1       0.78      0.85      0.81      8142\n",
      "\n",
      "    accuracy                           0.76     13164\n",
      "   macro avg       0.74      0.73      0.73     13164\n",
      "weighted avg       0.75      0.76      0.75     13164\n",
      "\n"
     ]
    },
    {
     "data": {
      "image/png": "[encoded data removed]",
      "text/plain": [
       "<Figure size 640x480 with 2 Axes>"
      ]
     },
     "metadata": {},
     "output_type": "display_data"
    },
    {
     "name": "stdout",
     "output_type": "stream",
     "text": [
      "XGBoost 5-fold CV Accuracy: 0.751 (+/- 0.003)\n"
     ]
    }
   ],
   "source": [
    "from sklearn.metrics import ConfusionMatrixDisplay\n",
    "import matplotlib.pyplot as plt\n",
    "\n",
    "models = {\n",
    "    \"Random Forest\": rf_grid.best_estimator_,\n",
    "    \"MLP\": mlp_grid.best_estimator_,\n",
    "    \"XGBoost\": xgb_grid.best_estimator_\n",
    "}\n",
    "for name, model in models.items():\n",
    "    print(f\"\\n{name} Test Sonuçları:\")\n",
    "    y_pred = model.predict(X_test_scaled)\n",
    "    print(\"Accuracy:\", accuracy_score(y_test, y_pred))\n",
    "    print(\"F1-score:\", f1_score(y_test, y_pred))\n",
    "    print(\"Confusion matrix:\\n\", confusion_matrix(y_test, y_pred))\n",
    "    print(classification_report(y_test, y_pred))\n",
    "    ConfusionMatrixDisplay.from_predictions(y_test, y_pred)\n",
    "    plt.title(name)\n",
    "    plt.show()\n",
    "    # 5-fold CV (train setinde)\n",
    "    cv_score = cross_val_score(model, X_train_scaled, y_train, cv=5, scoring=\"accuracy\")\n",
    "    print(f\"{name} 5-fold CV Accuracy: {cv_score.mean():.3f} (+/- {cv_score.std():.3f})\")\n"
   ]
  },
  {
   "cell_type": "code",
   "execution_count": 25,
   "id": "cd31dddb",
   "metadata": {},
   "outputs": [
    {
     "data": {
      "text/plain": [
       "['C:\\\\Users\\\\BatuhanÇağlar\\\\Desktop\\\\470\\\\proje\\\\models\\\\basketball_scaler.pkl']"
      ]
     },
     "execution_count": 25,
     "metadata": {},
     "output_type": "execute_result"
    }
   ],
   "source": [
    "import joblib\n",
    "\n",
    "# Random Forest (doğru hali)\n",
    "joblib.dump(rf_grid.best_estimator_, r\"C:\\Users\\BatuhanÇağlar\\Desktop\\470\\proje\\models\\basketball_rf.pkl\")\n",
    "\n",
    "# XGBoost\n",
    "joblib.dump(xgb_grid.best_estimator_, r\"C:\\Users\\BatuhanÇağlar\\Desktop\\470\\proje\\models\\basketball_xgb.pkl\")\n",
    "\n",
    "# MLP\n",
    "joblib.dump(mlp_grid.best_estimator_, r\"C:\\Users\\BatuhanÇağlar\\Desktop\\470\\proje\\models\\basketball_mlp.pkl\")\n",
    "\n",
    "# Scaler\n",
    "joblib.dump(scaler, r\"C:\\Users\\BatuhanÇağlar\\Desktop\\470\\proje\\models\\basketball_scaler.pkl\")\n"
   ]
  },
  {
   "cell_type": "code",
   "execution_count": null,
   "id": "bdb35d5e",
   "metadata": {},
   "outputs": [],
   "source": []
  }
 ],
 "metadata": {
  "kernelspec": {
   "display_name": "base",
   "language": "python",
   "name": "python3"
  },
  "language_info": {
   "codemirror_mode": {
    "name": "ipython",
    "version": 3
   },
   "file_extension": ".py",
   "mimetype": "text/x-python",
   "name": "python",
   "nbconvert_exporter": "python",
   "pygments_lexer": "ipython3",
   "version": "3.11.7"
  }
 },
 "nbformat": 4,
 "nbformat_minor": 5
}
